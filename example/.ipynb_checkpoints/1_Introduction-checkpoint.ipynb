{
 "cells": [
  {
   "cell_type": "markdown",
   "id": "9a425bf1-ce7f-4e58-a528-80cf609ed3d6",
   "metadata": {},
   "source": [
    "# Exoplanet Nulling Explorer -- GPU加速的极大似然消零干涉数据分析算法\n",
    "\n",
    "**前排提醒**：由于本人为粒子物理数据分析方向博士，在编写此算法前无天文相关专业经历，故若基于此算法开展工作时，请**务必**检查算法中所有天文学相关的定义、公式、参数单位约定等，**确保结果严谨性！！！**\n",
    "\n",
    "**前序知识**：使用本算法需掌握基本的概率论与数理统计知识。本算法为DARWINsim、LIFEsim等消零数据产生与数据分析算法的独立实现，观前请精读LIFE合作组第二篇文章\\[arXiv:2203.00471\\]后再开始本算法学习。\n",
    "\n",
    "## 算法架构与功能\n",
    "\n",
    "本算法为基于pytorch与scipy等算法包开发的消零干涉数据分析算法，可基于GPU SIMD特性加速消零干涉数据产生与数据分析流程，支持多GPU并行化加速，大大降低数据产生与数据分析时间。同时兼具良好的扩展性，可由用户自定义目标特性、光谱、传输图等模型，支撑未来地基与天基消零干涉望远镜阵列的预研究与数据分析工作。\n",
    "算法的基本架构如图所示：\n",
    "<img src=\"./figure/1_1_Algorithm_functions.jpg\", width=862, heigth=400>\n",
    "算法的所有模型均继承自`torch.nn.Module`，从而充分利用torch的\n"
   ]
  }
 ],
 "metadata": {
  "kernelspec": {
   "display_name": "Python 3 (ipykernel)",
   "language": "python",
   "name": "python3"
  },
  "language_info": {
   "codemirror_mode": {
    "name": "ipython",
    "version": 3
   },
   "file_extension": ".py",
   "mimetype": "text/x-python",
   "name": "python",
   "nbconvert_exporter": "python",
   "pygments_lexer": "ipython3",
   "version": "3.10.14"
  }
 },
 "nbformat": 4,
 "nbformat_minor": 5
}
